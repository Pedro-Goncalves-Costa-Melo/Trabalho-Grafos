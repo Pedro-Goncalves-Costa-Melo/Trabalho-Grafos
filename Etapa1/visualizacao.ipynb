{
 "cells": [
  {
   "cell_type": "markdown",
   "metadata": {},
   "source": [
    "## Visualização do grafos"
   ]
  },
  {
   "cell_type": "code",
   "execution_count": 3,
   "id": "acd2a3a2",
   "metadata": {},
   "outputs": [
    {
     "name": "stdout",
     "output_type": "stream",
     "text": [
      "\n",
      "📁 Arquivo: BHW1.dat\n"
     ]
    },
    {
     "ename": "NameError",
     "evalue": "name 'GrafoEtapa1' is not defined",
     "output_type": "error",
     "traceback": [
      "\u001b[31m---------------------------------------------------------------------------\u001b[39m",
      "\u001b[31mNameError\u001b[39m                                 Traceback (most recent call last)",
      "\u001b[36mCell\u001b[39m\u001b[36m \u001b[39m\u001b[32mIn[3]\u001b[39m\u001b[32m, line 10\u001b[39m\n\u001b[32m      7\u001b[39m \u001b[38;5;28;01mfor\u001b[39;00m nome_arquivo \u001b[38;5;129;01min\u001b[39;00m \u001b[38;5;28msorted\u001b[39m(arquivos):\n\u001b[32m      8\u001b[39m     \u001b[38;5;28mprint\u001b[39m(\u001b[33mf\u001b[39m\u001b[33m\"\u001b[39m\u001b[38;5;130;01m\\n\u001b[39;00m\u001b[33m📁 Arquivo: \u001b[39m\u001b[38;5;132;01m{\u001b[39;00mnome_arquivo\u001b[38;5;132;01m}\u001b[39;00m\u001b[33m\"\u001b[39m)\n\u001b[32m---> \u001b[39m\u001b[32m10\u001b[39m     grafo = \u001b[43mGrafoEtapa1\u001b[49m()\n\u001b[32m     11\u001b[39m     grafo.carregarDados(os.path.join(caminho_pasta, nome_arquivo))\n\u001b[32m     12\u001b[39m     modelarGrafo(grafo)\n",
      "\u001b[31mNameError\u001b[39m: name 'GrafoEtapa1' is not defined"
     ]
    }
   ],
   "source": [
    "import os\n",
    "import pandas as pd\n",
    "\n",
    "caminho_pasta = \"selected_instances\"\n",
    "arquivos = [arq for arq in os.listdir(caminho_pasta) if arq.endswith(\".dat\")]\n",
    "\n",
    "for nome_arquivo in sorted(arquivos):\n",
    "    print(f\"\\n📁 Arquivo: {nome_arquivo}\")\n",
    "    \n",
    "    grafo = GrafoEtapa1()\n",
    "    grafo.carregarDados(os.path.join(caminho_pasta, nome_arquivo))\n",
    "    modelarGrafo(grafo)\n",
    "\n",
    "    estatisticas = calcularEstatisticas(grafo)\n",
    "    df = pd.DataFrame.from_dict(estatisticas, orient='index', columns=['Valor'])\n",
    "    display(df.style.set_caption(f\"📊 Estatísticas - {grafo.nome}\"))"
   ]
  }
 ],
 "metadata": {
  "kernelspec": {
   "display_name": "Python 3",
   "language": "python",
   "name": "python3"
  },
  "language_info": {
   "codemirror_mode": {
    "name": "ipython",
    "version": 3
   },
   "file_extension": ".py",
   "mimetype": "text/x-python",
   "name": "python",
   "nbconvert_exporter": "python",
   "pygments_lexer": "ipython3",
   "version": "3.13.0"
  }
 },
 "nbformat": 4,
 "nbformat_minor": 5
}
