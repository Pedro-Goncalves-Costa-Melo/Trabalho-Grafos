{
 "cells": [
  {
   "cell_type": "markdown",
   "metadata": {},
   "source": [
    "## Visualização do grafos"
   ]
  },
  {
   "cell_type": "code",
   "execution_count": 8,
   "id": "acd2a3a2",
   "metadata": {},
   "outputs": [
    {
     "ename": "TypeError",
     "evalue": "carregarDados() missing 1 required positional argument: 'path'",
     "output_type": "error",
     "traceback": [
      "\u001b[31m---------------------------------------------------------------------------\u001b[39m",
      "\u001b[31mTypeError\u001b[39m                                 Traceback (most recent call last)",
      "\u001b[36mCell\u001b[39m\u001b[36m \u001b[39m\u001b[32mIn[8]\u001b[39m\u001b[32m, line 3\u001b[39m\n\u001b[32m      1\u001b[39m \u001b[38;5;28;01mfrom\u001b[39;00m\u001b[38;5;250m \u001b[39m\u001b[34;01mGrafoEtapa1\u001b[39;00m\u001b[38;5;250m \u001b[39m\u001b[38;5;28;01mimport\u001b[39;00m carregarDados, modelarGrafo, calcularEstatisticas\n\u001b[32m----> \u001b[39m\u001b[32m3\u001b[39m grafo = \u001b[43mcarregarDados\u001b[49m\u001b[43m(\u001b[49m\u001b[33;43m\"\u001b[39;49m\u001b[33;43m./selected_instances/BHW1.dat\u001b[39;49m\u001b[33;43m\"\u001b[39;49m\u001b[43m)\u001b[49m\n\u001b[32m      5\u001b[39m estatisticas = calcularEstatisticas(grafo)\n\u001b[32m      7\u001b[39m \u001b[38;5;28mprint\u001b[39m(\u001b[33m\"\u001b[39m\u001b[33mEstatísticas do grafo:\u001b[39m\u001b[33m\"\u001b[39m)\n",
      "\u001b[31mTypeError\u001b[39m: carregarDados() missing 1 required positional argument: 'path'"
     ]
    }
   ],
   "source": [
    "from GrafoEtapa1 import carregarDados, modelarGrafo, calcularEstatisticas\n",
    "\n",
    "grafo = carregarDados(\"./selected_instances/BHW1.dat\")\n",
    "\n",
    "estatisticas = calcularEstatisticas(grafo)\n",
    "\n",
    "print(\"Estatísticas do grafo:\")\n",
    "for chave, valor in estatisticas.items():\n",
    "    print(f\"{chave}: {valor}\")\n",
    "\n",
    "modelarGrafo(grafo)\n"
   ]
  }
 ],
 "metadata": {
  "kernelspec": {
   "display_name": "Python 3",
   "language": "python",
   "name": "python3"
  },
  "language_info": {
   "codemirror_mode": {
    "name": "ipython",
    "version": 3
   },
   "file_extension": ".py",
   "mimetype": "text/x-python",
   "name": "python",
   "nbconvert_exporter": "python",
   "pygments_lexer": "ipython3",
   "version": "3.13.0"
  }
 },
 "nbformat": 4,
 "nbformat_minor": 5
}
