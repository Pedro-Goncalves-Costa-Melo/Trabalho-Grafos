{
 "cells": [
  {
   "cell_type": "markdown",
   "metadata": {},
   "source": [
    "## Visualização do grafos"
   ]
  },
  {
   "cell_type": "code",
   "execution_count": 4,
   "id": "5917537e",
   "metadata": {},
   "outputs": [
    {
     "ename": "ImportError",
     "evalue": "cannot import name 'ler_arquivo' from 'GrafoEtapa1' (/Users/lucashenrique/Projetos/Github/Trabalho-Grafos/Etapa 1/GrafoEtapa1.py)",
     "output_type": "error",
     "traceback": [
      "\u001b[31m---------------------------------------------------------------------------\u001b[39m",
      "\u001b[31mImportError\u001b[39m                               Traceback (most recent call last)",
      "\u001b[36mCell\u001b[39m\u001b[36m \u001b[39m\u001b[32mIn[4]\u001b[39m\u001b[32m, line 4\u001b[39m\n\u001b[32m      2\u001b[39m \u001b[38;5;28;01mimport\u001b[39;00m\u001b[38;5;250m \u001b[39m\u001b[34;01mos\u001b[39;00m\n\u001b[32m      3\u001b[39m \u001b[38;5;28;01mimport\u001b[39;00m\u001b[38;5;250m \u001b[39m\u001b[34;01mmatplotlib\u001b[39;00m\u001b[34;01m.\u001b[39;00m\u001b[34;01mpyplot\u001b[39;00m\u001b[38;5;250m \u001b[39m\u001b[38;5;28;01mas\u001b[39;00m\u001b[38;5;250m \u001b[39m\u001b[34;01mplt\u001b[39;00m\n\u001b[32m----> \u001b[39m\u001b[32m4\u001b[39m \u001b[38;5;28;01mfrom\u001b[39;00m\u001b[38;5;250m \u001b[39m\u001b[34;01mGrafoEtapa1\u001b[39;00m\u001b[38;5;250m \u001b[39m\u001b[38;5;28;01mimport\u001b[39;00m ler_arquivo, modelarGrafo, calcularEstatisticas\n\u001b[32m      6\u001b[39m \u001b[38;5;66;03m# Função para ler todos os arquivos na pasta e gerar as visualizações\u001b[39;00m\n\u001b[32m      7\u001b[39m \u001b[38;5;28;01mdef\u001b[39;00m\u001b[38;5;250m \u001b[39m\u001b[34mprocessar_grafos_da_pasta\u001b[39m(pasta):\n\u001b[32m      8\u001b[39m     \u001b[38;5;66;03m# Iterar sobre todos os arquivos da pasta\u001b[39;00m\n",
      "\u001b[31mImportError\u001b[39m: cannot import name 'ler_arquivo' from 'GrafoEtapa1' (/Users/lucashenrique/Projetos/Github/Trabalho-Grafos/Etapa 1/GrafoEtapa1.py)"
     ]
    }
   ],
   "source": [
    "# Importando as bibliotecas necessárias\n",
    "import os\n",
    "import matplotlib.pyplot as plt\n",
    "from GrafoEtapa1 import ler_arquivo, modelarGrafo, calcularEstatisticas\n",
    "\n",
    "# Função para ler todos os arquivos na pasta e gerar as visualizações\n",
    "def processar_grafos_da_pasta(pasta):\n",
    "    # Iterar sobre todos os arquivos da pasta\n",
    "    for arquivo in os.listdir(pasta):\n",
    "        if arquivo.endswith(\".dat\"):  # Verifica se é um arquivo .dat\n",
    "            caminho_arquivo = os.path.join(pasta, arquivo)\n",
    "            \n",
    "            # Carregar o grafo do arquivo\n",
    "            print(f\"Processando o arquivo: {arquivo}\")\n",
    "            grafo = ler_arquivo(caminho_arquivo)\n",
    "\n",
    "            # Exibir título com o nome do arquivo\n",
    "            print(f\"\\n{'='*40}\\nVisualização e Estatísticas do Grafo: {arquivo}\\n{'='*40}\")\n",
    "\n",
    "            # Calcular as estatísticas do grafo\n",
    "            estatisticas = calcularEstatisticas(grafo)\n",
    "\n",
    "            # Exibir as estatísticas do grafo\n",
    "            print(\"Estatísticas do grafo:\")\n",
    "            for chave, valor in estatisticas.items():\n",
    "                print(f\"{chave}: {valor}\")\n",
    "\n",
    "            # Gerar a visualização do grafo\n",
    "            modelarGrafo(grafo)\n",
    "\n",
    "# Defina o caminho da pasta onde os arquivos .dat estão localizados\n",
    "pasta_dos_grafos = \"selected_instances\"\n",
    "\n",
    "# Processar todos os grafos na pasta especificada\n",
    "processar_grafos_da_pasta(pasta_dos_grafos)\n"
   ]
  }
 ],
 "metadata": {
  "kernelspec": {
   "display_name": "Python 3",
   "language": "python",
   "name": "python3"
  },
  "language_info": {
   "codemirror_mode": {
    "name": "ipython",
    "version": 3
   },
   "file_extension": ".py",
   "mimetype": "text/x-python",
   "name": "python",
   "nbconvert_exporter": "python",
   "pygments_lexer": "ipython3",
   "version": "3.13.0"
  }
 },
 "nbformat": 4,
 "nbformat_minor": 5
}
