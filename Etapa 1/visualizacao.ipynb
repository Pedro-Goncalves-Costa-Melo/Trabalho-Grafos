{
 "cells": [
  {
   "cell_type": "markdown",
   "metadata": {},
   "source": [
    "## Visualização do grafos"
   ]
  },
  {
   "cell_type": "code",
   "execution_count": null,
   "metadata": {},
   "outputs": [
    {
     "ename": "",
     "evalue": "",
     "output_type": "error",
     "traceback": [
      "\u001b[1;31mA execução de células com 'Python 3.13.1' requer o pacote ipykernel.\n",
      "\u001b[1;31m<a href='command:jupyter.createPythonEnvAndSelectController'>Crie um ambiente Python</a> com os pacotes necessários.\n",
      "\u001b[1;31mOu instale 'ipykernel' usando o comando: '/opt/homebrew/bin/python3 -m pip install ipykernel -U --user --force-reinstall'"
     ]
    }
   ],
   "source": [
    "# Importando as bibliotecas necessárias\n",
    "import os\n",
    "import matplotlib.pyplot as plt\n",
    "from grafo import ler_arquivo, modelarGrafo, calcularEstatisticas\n",
    "\n",
    "# Função para ler todos os arquivos na pasta e gerar as visualizações\n",
    "def processar_grafos_da_pasta(pasta):\n",
    "    # Iterar sobre todos os arquivos da pasta\n",
    "    for arquivo in os.listdir(pasta):\n",
    "        if arquivo.endswith(\".dat\"):  # Verifica se é um arquivo .dat\n",
    "            caminho_arquivo = os.path.join(pasta, arquivo)\n",
    "            \n",
    "            # Carregar o grafo do arquivo\n",
    "            print(f\"Processando o arquivo: {arquivo}\")\n",
    "            grafo = ler_arquivo(caminho_arquivo)\n",
    "\n",
    "            # Exibir título com o nome do arquivo\n",
    "            print(f\"\\n{'='*40}\\nVisualização e Estatísticas do Grafo: {arquivo}\\n{'='*40}\")\n",
    "\n",
    "            # Calcular as estatísticas do grafo\n",
    "            estatisticas = calcularEstatisticas(grafo)\n",
    "\n",
    "            # Exibir as estatísticas do grafo\n",
    "            print(\"Estatísticas do grafo:\")\n",
    "            for chave, valor in estatisticas.items():\n",
    "                print(f\"{chave}: {valor}\")\n",
    "\n",
    "            # Gerar a visualização do grafo\n",
    "            modelarGrafo(grafo)\n",
    "\n",
    "# Defina o caminho da pasta onde os arquivos .dat estão localizados\n",
    "pasta_dos_grafos = \"selected_instances\"\n",
    "\n",
    "# Processar todos os grafos na pasta especificada\n",
    "processar_grafos_da_pasta(pasta_dos_grafos)\n"
   ]
  }
 ],
 "metadata": {
  "kernelspec": {
   "display_name": "Python 3",
   "language": "python",
   "name": "python3"
  },
  "language_info": {
   "name": "python",
   "version": "3.13.1"
  }
 },
 "nbformat": 4,
 "nbformat_minor": 5
}
